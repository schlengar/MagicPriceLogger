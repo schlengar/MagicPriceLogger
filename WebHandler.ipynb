{
 "cells": [
  {
   "cell_type": "code",
   "execution_count": null,
   "metadata": {
    "collapsed": true
   },
   "outputs": [],
   "source": [
    "def lookup(cardName, siteName):\n",
    "    \"\"\"\"Given a string for the name of the card and a string for name of the website, look up the prices of that card on that website and return as a dict.\n",
    "    The cardName form is:\n",
    "    \"Scalding Tarn\"\n",
    "    The siteName form is:\n",
    "    \"mtgstocks\", \"tcgplayer\", or \"magiccardmarket\"\n",
    "    The return form is:\n",
    "    {\"LOW\": low, \"AVG\": average, \"HI\": high}\"\"\"\"\n",
    "   \n",
    "    fileName = siteName + \".txt\"\n",
    "    lookupTable = open(fileName,\"r) #lookupTable returns a dict of the form {cardName: url, \"LOW\": storageOfLow, ...}\n",
    "    \n",
    "    #TODO: use info from lookupTable to read out prices for cardName from siteName\n",
    "    #      return those prices as a dict."
   ]
  }
 ],
 "metadata": {
  "kernelspec": {
   "display_name": "Python 3",
   "language": "python",
   "name": "python3"
  },
  "language_info": {
   "codemirror_mode": {
    "name": "ipython",
    "version": 3
   },
   "file_extension": ".py",
   "mimetype": "text/x-python",
   "name": "python",
   "nbconvert_exporter": "python",
   "pygments_lexer": "ipython3",
   "version": "3.5.1"
  },
  "widgets": {
   "state": {},
   "version": "1.1.2"
  }
 },
 "nbformat": 4,
 "nbformat_minor": 0
}
