{
 "cells": [
  {
   "cell_type": "code",
   "execution_count": null,
   "metadata": {
    "collapsed": true
   },
   "outputs": [],
   "source": [
    "import WebHandler"
   ]
  },
  {
   "cell_type": "code",
   "execution_count": null,
   "metadata": {
    "collapsed": true
   },
   "outputs": [],
   "source": [
    "def priceFetcher(cardName): #cardName is a string of the form e.g. \"Scalding Tarn\"\n",
    "    result = {}\n",
    "    for site in WebHandler.siteList: #site is a string, siteList a list of strings of the form e.g.\"magiccardmarket\"\n",
    "        prices = WebHandler.lookup(cardName, site) #lookup returns: {\"LOW\": low; \"AVG\": average, \"HI\": high}\n",
    "        for level,price in prices.items():\n",
    "            key = cardName + \": \" + site + \"_\" + level\n",
    "            result[key] = price\n",
    "    return result\n",
    "            \n",
    "            \n",
    "        "
   ]
  }
 ],
 "metadata": {
  "kernelspec": {
   "display_name": "Python 3",
   "language": "python",
   "name": "python3"
  },
  "language_info": {
   "codemirror_mode": {
    "name": "ipython",
    "version": 3
   },
   "file_extension": ".py",
   "mimetype": "text/x-python",
   "name": "python",
   "nbconvert_exporter": "python",
   "pygments_lexer": "ipython3",
   "version": "3.5.1"
  },
  "widgets": {
   "state": {},
   "version": "1.1.2"
  }
 },
 "nbformat": 4,
 "nbformat_minor": 0
}
